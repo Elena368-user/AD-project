{
 "cells": [
  {
   "cell_type": "markdown",
   "id": "692fd24e-a0c0-4bdb-8ed9-483c85c82c62",
   "metadata": {},
   "source": [
    "# **Анализ экологических проблем - Апрель 2025**"
   ]
  },
  {
   "cell_type": "code",
   "execution_count": 1,
   "id": "ca8343d9-cec1-4b4a-ad1d-95543c7bb70a",
   "metadata": {},
   "outputs": [],
   "source": [
    "#импорт библиотек\n",
    "import pandas as pd\n",
    "import numpy as np\n",
    "import matplotlib.pyplot as plt\n",
    "import seaborn as sns"
   ]
  },
  {
   "cell_type": "markdown",
   "id": "781bfc74-03bb-4f09-b50c-3a899b06c756",
   "metadata": {},
   "source": [
    "## Обзор данных\n",
    "У нас есть данные завода по производству полезного полимера.\n",
    "\n",
    "*Таблица зависимости вредных выбросов от производственных показателей:*"
   ]
  },
  {
   "cell_type": "code",
   "execution_count": 66,
   "id": "78f898e1-5ece-4a79-ad7d-dcff81b64365",
   "metadata": {},
   "outputs": [
    {
     "data": {
      "text/html": [
       "<div>\n",
       "<style scoped>\n",
       "    .dataframe tbody tr th:only-of-type {\n",
       "        vertical-align: middle;\n",
       "    }\n",
       "\n",
       "    .dataframe tbody tr th {\n",
       "        vertical-align: top;\n",
       "    }\n",
       "\n",
       "    .dataframe thead th {\n",
       "        text-align: right;\n",
       "    }\n",
       "</style>\n",
       "<table border=\"1\" class=\"dataframe\">\n",
       "  <thead>\n",
       "    <tr style=\"text-align: right;\">\n",
       "      <th></th>\n",
       "      <th>DateTime</th>\n",
       "      <th>stage_1_output_konv_avd</th>\n",
       "      <th>stage_2_input_water_sum</th>\n",
       "      <th>stage_2_output_bottom_pressure</th>\n",
       "      <th>stage_2_output_bottom_temp</th>\n",
       "      <th>stage_2_output_bottom_temp_hum_steam</th>\n",
       "      <th>stage_2_output_bottom_vacuum</th>\n",
       "      <th>stage_2_output_top_pressure</th>\n",
       "      <th>stage_2_output_top_pressure_at_end</th>\n",
       "      <th>stage_2_output_top_temp</th>\n",
       "      <th>...</th>\n",
       "      <th>stage_3_output_temp_hum_steam</th>\n",
       "      <th>stage_3_output_temp_top</th>\n",
       "      <th>stage_4_input_overheated_steam</th>\n",
       "      <th>stage_4_input_polymer</th>\n",
       "      <th>stage_4_input_steam</th>\n",
       "      <th>stage_4_input_water</th>\n",
       "      <th>stage_4_output_danger_gas</th>\n",
       "      <th>stage_4_output_dry_residue_avg</th>\n",
       "      <th>stage_4_output_product</th>\n",
       "      <th>work_shift</th>\n",
       "    </tr>\n",
       "  </thead>\n",
       "  <tbody>\n",
       "    <tr>\n",
       "      <th>0</th>\n",
       "      <td>2021-01-28 18:00:00</td>\n",
       "      <td>67.83</td>\n",
       "      <td>92.99</td>\n",
       "      <td>474.18</td>\n",
       "      <td>76.84</td>\n",
       "      <td>97.52</td>\n",
       "      <td>49.94</td>\n",
       "      <td>361.5</td>\n",
       "      <td>252.04</td>\n",
       "      <td>97.48</td>\n",
       "      <td>...</td>\n",
       "      <td>108.65</td>\n",
       "      <td>45.59</td>\n",
       "      <td>156.67</td>\n",
       "      <td>19.08</td>\n",
       "      <td>5.92</td>\n",
       "      <td>356.05</td>\n",
       "      <td>NaN</td>\n",
       "      <td>21.48</td>\n",
       "      <td>47.03</td>\n",
       "      <td>2.0</td>\n",
       "    </tr>\n",
       "    <tr>\n",
       "      <th>1</th>\n",
       "      <td>2021-01-28 19:00:00</td>\n",
       "      <td>67.83</td>\n",
       "      <td>91.82</td>\n",
       "      <td>473.68</td>\n",
       "      <td>76.15</td>\n",
       "      <td>97.82</td>\n",
       "      <td>48.55</td>\n",
       "      <td>354.75</td>\n",
       "      <td>244.87</td>\n",
       "      <td>97.66</td>\n",
       "      <td>...</td>\n",
       "      <td>108.71</td>\n",
       "      <td>45.89</td>\n",
       "      <td>156.76</td>\n",
       "      <td>19.15</td>\n",
       "      <td>5.94</td>\n",
       "      <td>357.69</td>\n",
       "      <td>NaN</td>\n",
       "      <td>21.48</td>\n",
       "      <td>45.05</td>\n",
       "      <td>2.0</td>\n",
       "    </tr>\n",
       "    <tr>\n",
       "      <th>2</th>\n",
       "      <td>2021-01-28 20:00:00</td>\n",
       "      <td>67.83</td>\n",
       "      <td>90.65</td>\n",
       "      <td>473.17</td>\n",
       "      <td>75.46</td>\n",
       "      <td>98.12</td>\n",
       "      <td>47.15</td>\n",
       "      <td>348.0</td>\n",
       "      <td>237.7</td>\n",
       "      <td>97.85</td>\n",
       "      <td>...</td>\n",
       "      <td>108.76</td>\n",
       "      <td>46.19</td>\n",
       "      <td>156.86</td>\n",
       "      <td>19.23</td>\n",
       "      <td>5.97</td>\n",
       "      <td>359.33</td>\n",
       "      <td>NaN</td>\n",
       "      <td>21.48</td>\n",
       "      <td>43.06</td>\n",
       "      <td>2.0</td>\n",
       "    </tr>\n",
       "    <tr>\n",
       "      <th>3</th>\n",
       "      <td>2021-01-28 21:00:00</td>\n",
       "      <td>67.93</td>\n",
       "      <td>90.24</td>\n",
       "      <td>473.59</td>\n",
       "      <td>75.26</td>\n",
       "      <td>97.79</td>\n",
       "      <td>49.33</td>\n",
       "      <td>356.74</td>\n",
       "      <td>249.87</td>\n",
       "      <td>97.5</td>\n",
       "      <td>...</td>\n",
       "      <td>108.63</td>\n",
       "      <td>45.87</td>\n",
       "      <td>156.41</td>\n",
       "      <td>19.36</td>\n",
       "      <td>5.97</td>\n",
       "      <td>339.99</td>\n",
       "      <td>0.16</td>\n",
       "      <td>21.48</td>\n",
       "      <td>46.01</td>\n",
       "      <td>2.0</td>\n",
       "    </tr>\n",
       "    <tr>\n",
       "      <th>4</th>\n",
       "      <td>2021-01-28 22:00:00</td>\n",
       "      <td>68.03</td>\n",
       "      <td>89.84</td>\n",
       "      <td>474.0</td>\n",
       "      <td>75.06</td>\n",
       "      <td>97.46</td>\n",
       "      <td>51.51</td>\n",
       "      <td>365.49</td>\n",
       "      <td>262.04</td>\n",
       "      <td>97.15</td>\n",
       "      <td>...</td>\n",
       "      <td>108.51</td>\n",
       "      <td>45.54</td>\n",
       "      <td>155.96</td>\n",
       "      <td>19.49</td>\n",
       "      <td>5.97</td>\n",
       "      <td>320.64</td>\n",
       "      <td>NaN</td>\n",
       "      <td>21.48</td>\n",
       "      <td>48.95</td>\n",
       "      <td>2.0</td>\n",
       "    </tr>\n",
       "    <tr>\n",
       "      <th>...</th>\n",
       "      <td>...</td>\n",
       "      <td>...</td>\n",
       "      <td>...</td>\n",
       "      <td>...</td>\n",
       "      <td>...</td>\n",
       "      <td>...</td>\n",
       "      <td>...</td>\n",
       "      <td>...</td>\n",
       "      <td>...</td>\n",
       "      <td>...</td>\n",
       "      <td>...</td>\n",
       "      <td>...</td>\n",
       "      <td>...</td>\n",
       "      <td>...</td>\n",
       "      <td>...</td>\n",
       "      <td>...</td>\n",
       "      <td>...</td>\n",
       "      <td>...</td>\n",
       "      <td>...</td>\n",
       "      <td>...</td>\n",
       "      <td>...</td>\n",
       "    </tr>\n",
       "    <tr>\n",
       "      <th>4395</th>\n",
       "      <td>2023-03-19 12:00:00</td>\n",
       "      <td>67.33</td>\n",
       "      <td>43.32</td>\n",
       "      <td>409.32</td>\n",
       "      <td>82.0</td>\n",
       "      <td>105.65</td>\n",
       "      <td>69.35</td>\n",
       "      <td>771.29</td>\n",
       "      <td>223.71</td>\n",
       "      <td>97.37</td>\n",
       "      <td>...</td>\n",
       "      <td>111.26</td>\n",
       "      <td>41.04</td>\n",
       "      <td>152.9</td>\n",
       "      <td>22.69</td>\n",
       "      <td>4.14</td>\n",
       "      <td>381.37</td>\n",
       "      <td>0.2</td>\n",
       "      <td>21.18</td>\n",
       "      <td>9.17</td>\n",
       "      <td>2.0</td>\n",
       "    </tr>\n",
       "    <tr>\n",
       "      <th>4396</th>\n",
       "      <td>2023-03-20 00:00:00</td>\n",
       "      <td>68.83</td>\n",
       "      <td>62.24</td>\n",
       "      <td>377.84</td>\n",
       "      <td>79.82</td>\n",
       "      <td>104.8</td>\n",
       "      <td>61.08</td>\n",
       "      <td>781.76</td>\n",
       "      <td>183.36</td>\n",
       "      <td>97.7</td>\n",
       "      <td>...</td>\n",
       "      <td>110.09</td>\n",
       "      <td>46.4</td>\n",
       "      <td>152.53</td>\n",
       "      <td>21.38</td>\n",
       "      <td>4.15</td>\n",
       "      <td>381.77</td>\n",
       "      <td>0.14</td>\n",
       "      <td>21.08</td>\n",
       "      <td>10.79</td>\n",
       "      <td>2.0</td>\n",
       "    </tr>\n",
       "    <tr>\n",
       "      <th>4397</th>\n",
       "      <td>2023-03-20 12:00:00</td>\n",
       "      <td>66.83</td>\n",
       "      <td>61.92</td>\n",
       "      <td>397.95</td>\n",
       "      <td>81.19</td>\n",
       "      <td>105.5</td>\n",
       "      <td>66.26</td>\n",
       "      <td>776.52</td>\n",
       "      <td>227.64</td>\n",
       "      <td>98.31</td>\n",
       "      <td>...</td>\n",
       "      <td>108.65</td>\n",
       "      <td>45.99</td>\n",
       "      <td>152.53</td>\n",
       "      <td>21.78</td>\n",
       "      <td>4.14</td>\n",
       "      <td>391.6</td>\n",
       "      <td>0.2</td>\n",
       "      <td>21.08</td>\n",
       "      <td>9.27</td>\n",
       "      <td>1.0</td>\n",
       "    </tr>\n",
       "    <tr>\n",
       "      <th>4398</th>\n",
       "      <td>2023-03-21 01:00:00</td>\n",
       "      <td>70.03</td>\n",
       "      <td>62.8</td>\n",
       "      <td>378.37</td>\n",
       "      <td>79.16</td>\n",
       "      <td>110.5</td>\n",
       "      <td>63.16</td>\n",
       "      <td>845.66</td>\n",
       "      <td>223.15</td>\n",
       "      <td>103.01</td>\n",
       "      <td>...</td>\n",
       "      <td>108.18</td>\n",
       "      <td>47.7</td>\n",
       "      <td>151.8</td>\n",
       "      <td>22.44</td>\n",
       "      <td>3.66</td>\n",
       "      <td>460.04</td>\n",
       "      <td>0.18</td>\n",
       "      <td>22.38</td>\n",
       "      <td>10.11</td>\n",
       "      <td>1.0</td>\n",
       "    </tr>\n",
       "    <tr>\n",
       "      <th>4399</th>\n",
       "      <td>2023-03-21 12:00:00</td>\n",
       "      <td>66.83</td>\n",
       "      <td>50.97</td>\n",
       "      <td>370.93</td>\n",
       "      <td>78.71</td>\n",
       "      <td>111.51</td>\n",
       "      <td>60.06</td>\n",
       "      <td>1000.75</td>\n",
       "      <td>206.75</td>\n",
       "      <td>103.86</td>\n",
       "      <td>...</td>\n",
       "      <td>110.13</td>\n",
       "      <td>43.42</td>\n",
       "      <td>153.01</td>\n",
       "      <td>21.68</td>\n",
       "      <td>3.35</td>\n",
       "      <td>481.95</td>\n",
       "      <td>0.2</td>\n",
       "      <td>22.18</td>\n",
       "      <td>9.59</td>\n",
       "      <td>1.0</td>\n",
       "    </tr>\n",
       "  </tbody>\n",
       "</table>\n",
       "<p>4400 rows × 24 columns</p>\n",
       "</div>"
      ],
      "text/plain": [
       "                 DateTime stage_1_output_konv_avd stage_2_input_water_sum  \\\n",
       "0     2021-01-28 18:00:00                   67.83                   92.99   \n",
       "1     2021-01-28 19:00:00                   67.83                   91.82   \n",
       "2     2021-01-28 20:00:00                   67.83                   90.65   \n",
       "3     2021-01-28 21:00:00                   67.93                   90.24   \n",
       "4     2021-01-28 22:00:00                   68.03                   89.84   \n",
       "...                   ...                     ...                     ...   \n",
       "4395  2023-03-19 12:00:00                   67.33                   43.32   \n",
       "4396  2023-03-20 00:00:00                   68.83                   62.24   \n",
       "4397  2023-03-20 12:00:00                   66.83                   61.92   \n",
       "4398  2023-03-21 01:00:00                   70.03                    62.8   \n",
       "4399  2023-03-21 12:00:00                   66.83                   50.97   \n",
       "\n",
       "     stage_2_output_bottom_pressure stage_2_output_bottom_temp  \\\n",
       "0                            474.18                      76.84   \n",
       "1                            473.68                      76.15   \n",
       "2                            473.17                      75.46   \n",
       "3                            473.59                      75.26   \n",
       "4                             474.0                      75.06   \n",
       "...                             ...                        ...   \n",
       "4395                         409.32                       82.0   \n",
       "4396                         377.84                      79.82   \n",
       "4397                         397.95                      81.19   \n",
       "4398                         378.37                      79.16   \n",
       "4399                         370.93                      78.71   \n",
       "\n",
       "     stage_2_output_bottom_temp_hum_steam stage_2_output_bottom_vacuum  \\\n",
       "0                                   97.52                        49.94   \n",
       "1                                   97.82                        48.55   \n",
       "2                                   98.12                        47.15   \n",
       "3                                   97.79                        49.33   \n",
       "4                                   97.46                        51.51   \n",
       "...                                   ...                          ...   \n",
       "4395                               105.65                        69.35   \n",
       "4396                                104.8                        61.08   \n",
       "4397                                105.5                        66.26   \n",
       "4398                                110.5                        63.16   \n",
       "4399                               111.51                        60.06   \n",
       "\n",
       "     stage_2_output_top_pressure stage_2_output_top_pressure_at_end  \\\n",
       "0                          361.5                             252.04   \n",
       "1                         354.75                             244.87   \n",
       "2                          348.0                              237.7   \n",
       "3                         356.74                             249.87   \n",
       "4                         365.49                             262.04   \n",
       "...                          ...                                ...   \n",
       "4395                      771.29                             223.71   \n",
       "4396                      781.76                             183.36   \n",
       "4397                      776.52                             227.64   \n",
       "4398                      845.66                             223.15   \n",
       "4399                     1000.75                             206.75   \n",
       "\n",
       "     stage_2_output_top_temp  ... stage_3_output_temp_hum_steam  \\\n",
       "0                      97.48  ...                        108.65   \n",
       "1                      97.66  ...                        108.71   \n",
       "2                      97.85  ...                        108.76   \n",
       "3                       97.5  ...                        108.63   \n",
       "4                      97.15  ...                        108.51   \n",
       "...                      ...  ...                           ...   \n",
       "4395                   97.37  ...                        111.26   \n",
       "4396                    97.7  ...                        110.09   \n",
       "4397                   98.31  ...                        108.65   \n",
       "4398                  103.01  ...                        108.18   \n",
       "4399                  103.86  ...                        110.13   \n",
       "\n",
       "     stage_3_output_temp_top stage_4_input_overheated_steam  \\\n",
       "0                      45.59                         156.67   \n",
       "1                      45.89                         156.76   \n",
       "2                      46.19                         156.86   \n",
       "3                      45.87                         156.41   \n",
       "4                      45.54                         155.96   \n",
       "...                      ...                            ...   \n",
       "4395                   41.04                          152.9   \n",
       "4396                    46.4                         152.53   \n",
       "4397                   45.99                         152.53   \n",
       "4398                    47.7                          151.8   \n",
       "4399                   43.42                         153.01   \n",
       "\n",
       "     stage_4_input_polymer stage_4_input_steam stage_4_input_water  \\\n",
       "0                    19.08                5.92              356.05   \n",
       "1                    19.15                5.94              357.69   \n",
       "2                    19.23                5.97              359.33   \n",
       "3                    19.36                5.97              339.99   \n",
       "4                    19.49                5.97              320.64   \n",
       "...                    ...                 ...                 ...   \n",
       "4395                 22.69                4.14              381.37   \n",
       "4396                 21.38                4.15              381.77   \n",
       "4397                 21.78                4.14               391.6   \n",
       "4398                 22.44                3.66              460.04   \n",
       "4399                 21.68                3.35              481.95   \n",
       "\n",
       "     stage_4_output_danger_gas stage_4_output_dry_residue_avg  \\\n",
       "0                          NaN                          21.48   \n",
       "1                          NaN                          21.48   \n",
       "2                          NaN                          21.48   \n",
       "3                         0.16                          21.48   \n",
       "4                          NaN                          21.48   \n",
       "...                        ...                            ...   \n",
       "4395                       0.2                          21.18   \n",
       "4396                      0.14                          21.08   \n",
       "4397                       0.2                          21.08   \n",
       "4398                      0.18                          22.38   \n",
       "4399                       0.2                          22.18   \n",
       "\n",
       "     stage_4_output_product work_shift  \n",
       "0                     47.03        2.0  \n",
       "1                     45.05        2.0  \n",
       "2                     43.06        2.0  \n",
       "3                     46.01        2.0  \n",
       "4                     48.95        2.0  \n",
       "...                     ...        ...  \n",
       "4395                   9.17        2.0  \n",
       "4396                  10.79        2.0  \n",
       "4397                   9.27        1.0  \n",
       "4398                  10.11        1.0  \n",
       "4399                   9.59        1.0  \n",
       "\n",
       "[4400 rows x 24 columns]"
      ]
     },
     "execution_count": 66,
     "metadata": {},
     "output_type": "execute_result"
    }
   ],
   "source": [
    "df = pd.read_csv('analysing_environmental_issues.csv', sep= ',', encoding='UTF-8', decimal=',', na_values=' ')\n",
    "df"
   ]
  },
  {
   "cell_type": "markdown",
   "id": "6b784cbb-1b1a-42f0-8bdd-f095b4960d1d",
   "metadata": {},
   "source": [
    "## Предобработка данных"
   ]
  },
  {
   "cell_type": "markdown",
   "id": "e7d3488b-72f6-41c1-b2e9-a08d4ebfd5aa",
   "metadata": {},
   "source": [
    "Выведем на экран названия столбцов:"
   ]
  },
  {
   "cell_type": "code",
   "execution_count": 52,
   "id": "0159dc92-ae7b-49ad-8b0e-963743d93dd3",
   "metadata": {},
   "outputs": [
    {
     "data": {
      "text/plain": [
       "Index(['DateTime', 'stage_1_output_konv_avd', 'stage_2_input_water_sum',\n",
       "       'stage_2_output_bottom_pressure', 'stage_2_output_bottom_temp',\n",
       "       'stage_2_output_bottom_temp_hum_steam', 'stage_2_output_bottom_vacuum',\n",
       "       'stage_2_output_top_pressure', 'stage_2_output_top_pressure_at_end',\n",
       "       'stage_2_output_top_temp', 'stage_2_output_top_vacuum',\n",
       "       'stage_3_input_pressure', 'stage_3_input_soft_water',\n",
       "       'stage_3_input_steam', 'stage_3_output_temp_hum_steam',\n",
       "       'stage_3_output_temp_top', 'stage_4_input_overheated_steam',\n",
       "       'stage_4_input_polymer', 'stage_4_input_steam', 'stage_4_input_water',\n",
       "       'stage_4_output_danger_gas', 'stage_4_output_dry_residue_avg',\n",
       "       'stage_4_output_product', 'work_shift'],\n",
       "      dtype='object')"
      ]
     },
     "execution_count": 52,
     "metadata": {},
     "output_type": "execute_result"
    }
   ],
   "source": [
    "df.columns"
   ]
  },
  {
   "cell_type": "code",
   "execution_count": 67,
   "id": "766b8941-fcd6-4048-8f7e-ff7084afa1cf",
   "metadata": {},
   "outputs": [
    {
     "name": "stdout",
     "output_type": "stream",
     "text": [
      "<class 'pandas.core.frame.DataFrame'>\n",
      "RangeIndex: 4400 entries, 0 to 4399\n",
      "Data columns (total 24 columns):\n",
      " #   Column                                Non-Null Count  Dtype \n",
      "---  ------                                --------------  ----- \n",
      " 0   DateTime                              4400 non-null   object\n",
      " 1   stage_1_output_konv_avd               4159 non-null   object\n",
      " 2   stage_2_input_water_sum               4177 non-null   object\n",
      " 3   stage_2_output_bottom_pressure        4180 non-null   object\n",
      " 4   stage_2_output_bottom_temp            4209 non-null   object\n",
      " 5   stage_2_output_bottom_temp_hum_steam  4223 non-null   object\n",
      " 6   stage_2_output_bottom_vacuum          4169 non-null   object\n",
      " 7   stage_2_output_top_pressure           4218 non-null   object\n",
      " 8   stage_2_output_top_pressure_at_end    4226 non-null   object\n",
      " 9   stage_2_output_top_temp               4196 non-null   object\n",
      " 10  stage_2_output_top_vacuum             4205 non-null   object\n",
      " 11  stage_3_input_pressure                4164 non-null   object\n",
      " 12  stage_3_input_soft_water              4187 non-null   object\n",
      " 13  stage_3_input_steam                   4227 non-null   object\n",
      " 14  stage_3_output_temp_hum_steam         4226 non-null   object\n",
      " 15  stage_3_output_temp_top               4170 non-null   object\n",
      " 16  stage_4_input_overheated_steam        4231 non-null   object\n",
      " 17  stage_4_input_polymer                 4174 non-null   object\n",
      " 18  stage_4_input_steam                   4156 non-null   object\n",
      " 19  stage_4_input_water                   4159 non-null   object\n",
      " 20  stage_4_output_danger_gas             934 non-null    object\n",
      " 21  stage_4_output_dry_residue_avg        4240 non-null   object\n",
      " 22  stage_4_output_product                4240 non-null   object\n",
      " 23  work_shift                            4240 non-null   object\n",
      "dtypes: object(24)\n",
      "memory usage: 825.1+ KB\n"
     ]
    }
   ],
   "source": [
    "df.info()"
   ]
  },
  {
   "cell_type": "markdown",
   "id": "1d38754a-b015-41e6-ace3-ae2d568fc6db",
   "metadata": {},
   "source": [
    "Числовые данные имеют тип \"объект\", преобразовываем в числовой формат"
   ]
  },
  {
   "cell_type": "code",
   "execution_count": 68,
   "id": "315a8110-888d-43ea-a80f-d8350210d89a",
   "metadata": {},
   "outputs": [],
   "source": [
    " # df[['stage_1_output_konv_avd', 'stage_2_input_water_sum', 'stage_2_output_bottom_pressure']] = df[['stage_1_output_konv_avd', 'stage_2_input_water_sum', 'stage_2_output_bottom_pressure']].astype(float)"
   ]
  },
  {
   "cell_type": "code",
   "execution_count": 74,
   "id": "04e50fdd-e166-4b8e-a5a0-87d35bddf919",
   "metadata": {},
   "outputs": [
    {
     "data": {
      "text/plain": [
       "array([False,  True,  True,  True,  True,  True,  True,  True,  True,\n",
       "        True,  True,  True,  True,  True,  True,  True,  True,  True,\n",
       "        True,  True,  True,  True,  True,  True])"
      ]
     },
     "execution_count": 74,
     "metadata": {},
     "output_type": "execute_result"
    }
   ],
   "source": [
    "df.columns != 'DateTime'"
   ]
  },
  {
   "cell_type": "code",
   "execution_count": 88,
   "id": "f99fc8b8-e99a-43f6-9fe6-e6ba6d3152d9",
   "metadata": {},
   "outputs": [],
   "source": [
    "df[[i for i in df.columns if i != 'DateTime']] = df[[i for i in df.columns if i != 'DateTime']].astype(float)"
   ]
  },
  {
   "cell_type": "code",
   "execution_count": 89,
   "id": "442319f7-038d-43bb-8d34-4c2313ff0329",
   "metadata": {},
   "outputs": [
    {
     "name": "stdout",
     "output_type": "stream",
     "text": [
      "<class 'pandas.core.frame.DataFrame'>\n",
      "RangeIndex: 4400 entries, 0 to 4399\n",
      "Data columns (total 24 columns):\n",
      " #   Column                                Non-Null Count  Dtype  \n",
      "---  ------                                --------------  -----  \n",
      " 0   DateTime                              4400 non-null   object \n",
      " 1   stage_1_output_konv_avd               4159 non-null   float64\n",
      " 2   stage_2_input_water_sum               4177 non-null   float64\n",
      " 3   stage_2_output_bottom_pressure        4180 non-null   float64\n",
      " 4   stage_2_output_bottom_temp            4209 non-null   float64\n",
      " 5   stage_2_output_bottom_temp_hum_steam  4223 non-null   float64\n",
      " 6   stage_2_output_bottom_vacuum          4169 non-null   float64\n",
      " 7   stage_2_output_top_pressure           4218 non-null   float64\n",
      " 8   stage_2_output_top_pressure_at_end    4226 non-null   float64\n",
      " 9   stage_2_output_top_temp               4196 non-null   float64\n",
      " 10  stage_2_output_top_vacuum             4205 non-null   float64\n",
      " 11  stage_3_input_pressure                4164 non-null   float64\n",
      " 12  stage_3_input_soft_water              4187 non-null   float64\n",
      " 13  stage_3_input_steam                   4227 non-null   float64\n",
      " 14  stage_3_output_temp_hum_steam         4226 non-null   float64\n",
      " 15  stage_3_output_temp_top               4170 non-null   float64\n",
      " 16  stage_4_input_overheated_steam        4231 non-null   float64\n",
      " 17  stage_4_input_polymer                 4174 non-null   float64\n",
      " 18  stage_4_input_steam                   4156 non-null   float64\n",
      " 19  stage_4_input_water                   4159 non-null   float64\n",
      " 20  stage_4_output_danger_gas             934 non-null    float64\n",
      " 21  stage_4_output_dry_residue_avg        4240 non-null   float64\n",
      " 22  stage_4_output_product                4240 non-null   float64\n",
      " 23  work_shift                            4240 non-null   float64\n",
      "dtypes: float64(23), object(1)\n",
      "memory usage: 825.1+ KB\n"
     ]
    }
   ],
   "source": [
    "df.info()"
   ]
  },
  {
   "cell_type": "code",
   "execution_count": null,
   "id": "e4dae0ce-e75b-4afc-8b22-9f6b330a33f8",
   "metadata": {},
   "outputs": [],
   "source": []
  },
  {
   "cell_type": "code",
   "execution_count": null,
   "id": "eef9b63a-482f-45de-845d-a31ae8070751",
   "metadata": {},
   "outputs": [],
   "source": []
  },
  {
   "cell_type": "markdown",
   "id": "f35e5ffd-ba6b-4bf1-820d-c4dd67fc5f40",
   "metadata": {},
   "source": [
    "### Пропуски значений\n",
    "Сначала посчитаем, сколько в таблице пропущенных значений. Для этого достаточно двух методов pandas:"
   ]
  },
  {
   "cell_type": "code",
   "execution_count": 50,
   "id": "491103f9-39be-4adc-8873-5c737a07770f",
   "metadata": {},
   "outputs": [
    {
     "data": {
      "text/plain": [
       "stage_1_output_konv_avd                  241\n",
       "stage_2_input_water_sum                  223\n",
       "stage_2_output_bottom_pressure           220\n",
       "stage_2_output_bottom_temp               191\n",
       "stage_2_output_bottom_temp_hum_steam     177\n",
       "stage_2_output_bottom_vacuum             231\n",
       "stage_2_output_top_pressure              182\n",
       "stage_2_output_top_pressure_at_end       174\n",
       "stage_2_output_top_temp                  204\n",
       "stage_2_output_top_vacuum                195\n",
       "stage_3_input_pressure                   236\n",
       "stage_3_input_soft_water                 213\n",
       "stage_3_input_steam                      173\n",
       "stage_3_output_temp_hum_steam            174\n",
       "stage_3_output_temp_top                  230\n",
       "stage_4_input_overheated_steam           169\n",
       "stage_4_input_polymer                    226\n",
       "stage_4_input_steam                      244\n",
       "stage_4_input_water                      241\n",
       "stage_4_output_danger_gas               3466\n",
       "stage_4_output_dry_residue_avg           160\n",
       "stage_4_output_product                   160\n",
       "work_shift                               160\n",
       "dtype: int64"
      ]
     },
     "execution_count": 50,
     "metadata": {},
     "output_type": "execute_result"
    }
   ],
   "source": [
    "df.isnull().sum()"
   ]
  },
  {
   "cell_type": "markdown",
   "id": "77486456-dc8d-4695-a6ea-da3fddbd069f",
   "metadata": {},
   "source": []
  },
  {
   "cell_type": "markdown",
   "id": "7b0cbc66-54e4-409c-a581-15e1bfc428a7",
   "metadata": {},
   "source": [
    "Посчитаем явные дубликаты в таблице одной командой:"
   ]
  },
  {
   "cell_type": "code",
   "execution_count": 9,
   "id": "5a8e5ed2-5fe1-473d-9399-a1c1f674bf61",
   "metadata": {},
   "outputs": [
    {
     "data": {
      "text/plain": [
       "0"
      ]
     },
     "execution_count": 9,
     "metadata": {},
     "output_type": "execute_result"
    }
   ],
   "source": [
    "df.duplicated().sum()"
   ]
  },
  {
   "cell_type": "code",
   "execution_count": null,
   "id": "bcefc2b3-bce8-4993-a86b-c3aed359a2b1",
   "metadata": {},
   "outputs": [],
   "source": []
  },
  {
   "cell_type": "markdown",
   "id": "8d775c54-7272-4fe3-becb-043c2a6f1732",
   "metadata": {},
   "source": [
    "**процент конверсии сырья в мономер** stage_1_output_konv_avd "
   ]
  },
  {
   "cell_type": "code",
   "execution_count": 23,
   "id": "c6c506aa-1fc8-44f6-add0-f5480038dfd2",
   "metadata": {},
   "outputs": [
    {
     "data": {
      "image/png": "[encoded data removed]",
      "text/plain": [
       "<Figure size 640x480 with 1 Axes>"
      ]
     },
     "metadata": {},
     "output_type": "display_data"
    }
   ],
   "source": [
    "bp = sns.boxplot(x='DateTime', y='stage_1_output_konv_avd', data=df)\n",
    "#plt.setp(bp.get_xticklabels(), rotation=0)\n",
    "plt.show()"
   ]
  },
  {
   "cell_type": "code",
   "execution_count": 35,
   "id": "5cb63ec1-a487-4258-a2ba-914a904d1880",
   "metadata": {},
   "outputs": [
    {
     "data": {
      "text/plain": [
       "<Axes: >"
      ]
     },
     "execution_count": 35,
     "metadata": {},
     "output_type": "execute_result"
    },
    {
     "data": {
      "image/png": "[encoded data removed]",
      "text/plain": [
       "<Figure size 640x480 with 1 Axes>"
      ]
     },
     "metadata": {},
     "output_type": "display_data"
    }
   ],
   "source": [
    "df['stage_1_output_konv_avd'].plot(kind='box')"
   ]
  },
  {
   "cell_type": "code",
   "execution_count": 28,
   "id": "8a4da72d-0520-4c71-bc3d-e9d7bae82e1d",
   "metadata": {},
   "outputs": [
    {
     "data": {
      "text/plain": [
       "count    4400.000000\n",
       "mean       69.487591\n",
       "std         3.922247\n",
       "min        50.330000\n",
       "25%        67.230000\n",
       "50%        70.030000\n",
       "75%        72.330000\n",
       "max        79.830000\n",
       "Name: stage_1_output_konv_avd, dtype: float64"
      ]
     },
     "execution_count": 28,
     "metadata": {},
     "output_type": "execute_result"
    }
   ],
   "source": [
    "df['stage_1_output_konv_avd'].describe()"
   ]
  },
  {
   "cell_type": "markdown",
   "id": "0c71d9fa-67f1-4075-ae70-396e9b9949cf",
   "metadata": {},
   "source": [
    "пропуски можно заменить медианой"
   ]
  },
  {
   "cell_type": "code",
   "execution_count": 29,
   "id": "d98e7ed7-9c10-4d93-9243-331d1c7b5ba2",
   "metadata": {},
   "outputs": [
    {
     "data": {
      "text/html": [
       "<div>\n",
       "<style scoped>\n",
       "    .dataframe tbody tr th:only-of-type {\n",
       "        vertical-align: middle;\n",
       "    }\n",
       "\n",
       "    .dataframe tbody tr th {\n",
       "        vertical-align: top;\n",
       "    }\n",
       "\n",
       "    .dataframe thead th {\n",
       "        text-align: right;\n",
       "    }\n",
       "</style>\n",
       "<table border=\"1\" class=\"dataframe\">\n",
       "  <thead>\n",
       "    <tr style=\"text-align: right;\">\n",
       "      <th></th>\n",
       "      <th>stage_1_output_konv_avd</th>\n",
       "      <th>stage_2_input_water_sum</th>\n",
       "      <th>stage_2_output_bottom_pressure</th>\n",
       "    </tr>\n",
       "  </thead>\n",
       "  <tbody>\n",
       "    <tr>\n",
       "      <th>count</th>\n",
       "      <td>4400.000000</td>\n",
       "      <td>4177.000000</td>\n",
       "      <td>4180.000000</td>\n",
       "    </tr>\n",
       "    <tr>\n",
       "      <th>mean</th>\n",
       "      <td>69.487591</td>\n",
       "      <td>86.674616</td>\n",
       "      <td>404.030844</td>\n",
       "    </tr>\n",
       "    <tr>\n",
       "      <th>std</th>\n",
       "      <td>3.922247</td>\n",
       "      <td>31.155280</td>\n",
       "      <td>62.018933</td>\n",
       "    </tr>\n",
       "    <tr>\n",
       "      <th>min</th>\n",
       "      <td>50.330000</td>\n",
       "      <td>19.950000</td>\n",
       "      <td>248.760000</td>\n",
       "    </tr>\n",
       "    <tr>\n",
       "      <th>25%</th>\n",
       "      <td>67.230000</td>\n",
       "      <td>64.820000</td>\n",
       "      <td>353.252500</td>\n",
       "    </tr>\n",
       "    <tr>\n",
       "      <th>50%</th>\n",
       "      <td>70.030000</td>\n",
       "      <td>82.900000</td>\n",
       "      <td>389.395000</td>\n",
       "    </tr>\n",
       "    <tr>\n",
       "      <th>75%</th>\n",
       "      <td>72.330000</td>\n",
       "      <td>105.570000</td>\n",
       "      <td>458.350000</td>\n",
       "    </tr>\n",
       "    <tr>\n",
       "      <th>max</th>\n",
       "      <td>79.830000</td>\n",
       "      <td>233.370000</td>\n",
       "      <td>897.290000</td>\n",
       "    </tr>\n",
       "  </tbody>\n",
       "</table>\n",
       "</div>"
      ],
      "text/plain": [
       "       stage_1_output_konv_avd  stage_2_input_water_sum  \\\n",
       "count              4400.000000              4177.000000   \n",
       "mean                 69.487591                86.674616   \n",
       "std                   3.922247                31.155280   \n",
       "min                  50.330000                19.950000   \n",
       "25%                  67.230000                64.820000   \n",
       "50%                  70.030000                82.900000   \n",
       "75%                  72.330000               105.570000   \n",
       "max                  79.830000               233.370000   \n",
       "\n",
       "       stage_2_output_bottom_pressure  \n",
       "count                     4180.000000  \n",
       "mean                       404.030844  \n",
       "std                         62.018933  \n",
       "min                        248.760000  \n",
       "25%                        353.252500  \n",
       "50%                        389.395000  \n",
       "75%                        458.350000  \n",
       "max                        897.290000  "
      ]
     },
     "execution_count": 29,
     "metadata": {},
     "output_type": "execute_result"
    }
   ],
   "source": [
    "df.describe()"
   ]
  },
  {
   "cell_type": "code",
   "execution_count": 33,
   "id": "61415207-a65a-48f6-8e75-64162169a20c",
   "metadata": {},
   "outputs": [
    {
     "data": {
      "text/html": [
       "<div>\n",
       "<style scoped>\n",
       "    .dataframe tbody tr th:only-of-type {\n",
       "        vertical-align: middle;\n",
       "    }\n",
       "\n",
       "    .dataframe tbody tr th {\n",
       "        vertical-align: top;\n",
       "    }\n",
       "\n",
       "    .dataframe thead th {\n",
       "        text-align: right;\n",
       "    }\n",
       "</style>\n",
       "<table border=\"1\" class=\"dataframe\">\n",
       "  <thead>\n",
       "    <tr style=\"text-align: right;\">\n",
       "      <th></th>\n",
       "      <th>index</th>\n",
       "      <th>stage_1_output_konv_avd</th>\n",
       "    </tr>\n",
       "  </thead>\n",
       "  <tbody>\n",
       "    <tr>\n",
       "      <th>0</th>\n",
       "      <td>0</td>\n",
       "      <td>67.83</td>\n",
       "    </tr>\n",
       "    <tr>\n",
       "      <th>1</th>\n",
       "      <td>1</td>\n",
       "      <td>67.83</td>\n",
       "    </tr>\n",
       "    <tr>\n",
       "      <th>2</th>\n",
       "      <td>2</td>\n",
       "      <td>67.83</td>\n",
       "    </tr>\n",
       "    <tr>\n",
       "      <th>3</th>\n",
       "      <td>3</td>\n",
       "      <td>67.93</td>\n",
       "    </tr>\n",
       "    <tr>\n",
       "      <th>4</th>\n",
       "      <td>4</td>\n",
       "      <td>68.03</td>\n",
       "    </tr>\n",
       "    <tr>\n",
       "      <th>...</th>\n",
       "      <td>...</td>\n",
       "      <td>...</td>\n",
       "    </tr>\n",
       "    <tr>\n",
       "      <th>4395</th>\n",
       "      <td>4395</td>\n",
       "      <td>67.33</td>\n",
       "    </tr>\n",
       "    <tr>\n",
       "      <th>4396</th>\n",
       "      <td>4396</td>\n",
       "      <td>68.83</td>\n",
       "    </tr>\n",
       "    <tr>\n",
       "      <th>4397</th>\n",
       "      <td>4397</td>\n",
       "      <td>66.83</td>\n",
       "    </tr>\n",
       "    <tr>\n",
       "      <th>4398</th>\n",
       "      <td>4398</td>\n",
       "      <td>70.03</td>\n",
       "    </tr>\n",
       "    <tr>\n",
       "      <th>4399</th>\n",
       "      <td>4399</td>\n",
       "      <td>66.83</td>\n",
       "    </tr>\n",
       "  </tbody>\n",
       "</table>\n",
       "<p>4400 rows × 2 columns</p>\n",
       "</div>"
      ],
      "text/plain": [
       "      index  stage_1_output_konv_avd\n",
       "0         0                    67.83\n",
       "1         1                    67.83\n",
       "2         2                    67.83\n",
       "3         3                    67.93\n",
       "4         4                    68.03\n",
       "...     ...                      ...\n",
       "4395   4395                    67.33\n",
       "4396   4396                    68.83\n",
       "4397   4397                    66.83\n",
       "4398   4398                    70.03\n",
       "4399   4399                    66.83\n",
       "\n",
       "[4400 rows x 2 columns]"
      ]
     },
     "execution_count": 33,
     "metadata": {},
     "output_type": "execute_result"
    }
   ],
   "source": [
    "df['stage_1_output_konv_avd'].fillna(df['stage_1_output_konv_avd'].mean()).reset_index()\n"
   ]
  },
  {
   "cell_type": "code",
   "execution_count": 15,
   "id": "b5445bda-5f64-46b8-8b69-69f86cf4aa6a",
   "metadata": {},
   "outputs": [
    {
     "name": "stderr",
     "output_type": "stream",
     "text": [
      "C:\\Users\\orchi\\AppData\\Local\\Temp\\ipykernel_12612\\404236482.py:2: FutureWarning: A value is trying to be set on a copy of a DataFrame or Series through chained assignment using an inplace method.\n",
      "The behavior will change in pandas 3.0. This inplace method will never work because the intermediate object on which we are setting values always behaves as a copy.\n",
      "\n",
      "For example, when doing 'df[col].method(value, inplace=True)', try using 'df.method({col: value}, inplace=True)' or df[col] = df[col].method(value) instead, to perform the operation inplace on the original object.\n",
      "\n",
      "\n",
      "  df['stage_1_output_konv_avd'].fillna(median_value, inplace=True)\n"
     ]
    }
   ],
   "source": [
    "#median_value = df['stage_1_output_konv_avd'].median()\n",
    "#df['stage_1_output_konv_avd'].fillna(median_value, inplace=True)\n"
   ]
  },
  {
   "cell_type": "markdown",
   "id": "2e81e393-8931-4ecc-b3df-33da676d6a1c",
   "metadata": {},
   "source": [
    "**количество подаваемой суммарной воды** в агрегат stage_2_input_water_sum пропуски заполняем медианой"
   ]
  },
  {
   "cell_type": "code",
   "execution_count": 14,
   "id": "7c938b58-547e-4d03-a755-dbed7f6008bd",
   "metadata": {},
   "outputs": [
    {
     "ename": "NameError",
     "evalue": "name 'median_value' is not defined",
     "output_type": "error",
     "traceback": [
      "\u001b[1;31m---------------------------------------------------------------------------\u001b[0m",
      "\u001b[1;31mNameError\u001b[0m                                 Traceback (most recent call last)",
      "Cell \u001b[1;32mIn[14], line 1\u001b[0m\n\u001b[1;32m----> 1\u001b[0m df[\u001b[38;5;124m'\u001b[39m\u001b[38;5;124mstage_2_input_water_sum\u001b[39m\u001b[38;5;124m'\u001b[39m] \u001b[38;5;241m=\u001b[39m df[\u001b[38;5;124m'\u001b[39m\u001b[38;5;124mstage_2_input_water_sum\u001b[39m\u001b[38;5;124m'\u001b[39m]\u001b[38;5;241m.\u001b[39mfillna(median_value)\n",
      "\u001b[1;31mNameError\u001b[0m: name 'median_value' is not defined"
     ]
    }
   ],
   "source": [
    "df['stage_2_input_water_sum'] = df['stage_2_input_water_sum'].fillna(median_value)"
   ]
  },
  {
   "cell_type": "code",
   "execution_count": null,
   "id": "1c713f22-b548-4c51-ab86-8a6ea6778aa4",
   "metadata": {},
   "outputs": [],
   "source": [
    "stage_2_input_water_sum"
   ]
  },
  {
   "cell_type": "code",
   "execution_count": null,
   "id": "725f2a55-a22c-471f-af26-6f12cfb669b8",
   "metadata": {},
   "outputs": [],
   "source": [
    "# df['stage_1_output_konv_avd'] = df['stage_1_output_konv_avd'].fillna(median_value)"
   ]
  },
  {
   "cell_type": "code",
   "execution_count": null,
   "id": "b2809de1-8299-4c99-bdf1-57323d9ae538",
   "metadata": {},
   "outputs": [],
   "source": [
    "df[col] = df[col].method(value)"
   ]
  },
  {
   "cell_type": "code",
   "execution_count": null,
   "id": "f0b56b49-bad6-42e0-8b8d-562c88b0ab0c",
   "metadata": {},
   "outputs": [],
   "source": []
  },
  {
   "cell_type": "code",
   "execution_count": 37,
   "id": "f31cb1ee-e843-4160-a87b-4b70348718a9",
   "metadata": {},
   "outputs": [
    {
     "data": {
      "text/plain": [
       "DateTime                                   0\n",
       "stage_1_output_konv_avd                    0\n",
       "stage_2_input_water_sum                    0\n",
       "stage_2_output_bottom_pressure           220\n",
       "stage_2_output_bottom_temp               191\n",
       "stage_2_output_bottom_temp_hum_steam     177\n",
       "stage_2_output_bottom_vacuum             231\n",
       "stage_2_output_top_pressure              182\n",
       "stage_2_output_top_pressure_at_end       174\n",
       "stage_2_output_top_temp                  204\n",
       "stage_2_output_top_vacuum                195\n",
       "stage_3_input_pressure                   236\n",
       "stage_3_input_soft_water                 213\n",
       "stage_3_input_steam                      173\n",
       "stage_3_output_temp_hum_steam            174\n",
       "stage_3_output_temp_top                  230\n",
       "stage_4_input_overheated_steam           169\n",
       "stage_4_input_polymer                    226\n",
       "stage_4_input_steam                      244\n",
       "stage_4_input_water                      241\n",
       "stage_4_output_danger_gas               3466\n",
       "stage_4_output_dry_residue_avg           160\n",
       "stage_4_output_product                   160\n",
       "work_shift                               160\n",
       "dtype: int64"
      ]
     },
     "execution_count": 37,
     "metadata": {},
     "output_type": "execute_result"
    }
   ],
   "source": [
    "df.isnull().sum()"
   ]
  },
  {
   "cell_type": "code",
   "execution_count": null,
   "id": "f4ebd187-f482-401a-bf57-e36cb7ce439c",
   "metadata": {},
   "outputs": [],
   "source": []
  }
 ],
 "metadata": {
  "kernelspec": {
   "display_name": "Python 3 (ipykernel)",
   "language": "python",
   "name": "python3"
  },
  "language_info": {
   "codemirror_mode": {
    "name": "ipython",
    "version": 3
   },
   "file_extension": ".py",
   "mimetype": "text/x-python",
   "name": "python",
   "nbconvert_exporter": "python",
   "pygments_lexer": "ipython3",
   "version": "3.12.4"
  }
 },
 "nbformat": 4,
 "nbformat_minor": 5
}
